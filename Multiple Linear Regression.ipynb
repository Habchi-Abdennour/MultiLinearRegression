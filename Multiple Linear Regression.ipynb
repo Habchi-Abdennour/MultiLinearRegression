{
 "cells": [
  {
   "cell_type": "code",
   "execution_count": 57,
   "id": "8b9172f5",
   "metadata": {},
   "outputs": [],
   "source": [
    "import numpy as np\n",
    "import matplotlib.pyplot as plt\n",
    "import pandas as pd"
   ]
  },
  {
   "cell_type": "markdown",
   "id": "aa6440ba",
   "metadata": {},
   "source": [
    "**Training data**"
   ]
  },
  {
   "cell_type": "code",
   "execution_count": 58,
   "id": "8c169fa2",
   "metadata": {},
   "outputs": [],
   "source": [
    "x_train=np.array([[2104, 5, 1, 45],[1416, 3, 2, 40],[852, 2, 1, 35]])\n",
    "y_train=np.array([460,232,178])"
   ]
  },
  {
   "cell_type": "code",
   "execution_count": 59,
   "id": "46344aa9",
   "metadata": {},
   "outputs": [
    {
     "name": "stdout",
     "output_type": "stream",
     "text": [
      "b_init is just a Scalar :785.15\n",
      "w_init shap :(4,)\n"
     ]
    }
   ],
   "source": [
    "b_init=785.15\n",
    "w_init=np.array([0.39,18.75,-53.36,-26.24])\n",
    "print(f'b_init is just a Scalar :{b_init}')\n",
    "print(f'w_init shap :{w_init.shape}')\n"
   ]
  },
  {
   "cell_type": "code",
   "execution_count": 60,
   "id": "c971b9d9",
   "metadata": {},
   "outputs": [
    {
     "name": "stdout",
     "output_type": "stream",
     "text": [
      "m represent nomber  of sample : 3\n",
      "n represent nomber  of features : 4\n"
     ]
    }
   ],
   "source": [
    "m,n=x_train.shape\n",
    "print(f'm represent nomber  of sample : {m}')\n",
    "print(f'n represent nomber  of features : {n}')\n"
   ]
  },
  {
   "cell_type": "markdown",
   "id": "1477aaac",
   "metadata": {},
   "source": [
    "**Model function**"
   ]
  },
  {
   "cell_type": "code",
   "execution_count": 61,
   "id": "0fe0681d",
   "metadata": {},
   "outputs": [],
   "source": [
    "def model(x,w,b):\n",
    "    F_wb=np.dot(x,w)+b\n",
    "    return F_wb"
   ]
  },
  {
   "cell_type": "code",
   "execution_count": 62,
   "id": "281e6544",
   "metadata": {},
   "outputs": [
    {
     "name": "stdout",
     "output_type": "stream",
     "text": [
      "Prediction : [465.3  237.32 183.17]\n"
     ]
    }
   ],
   "source": [
    "y_pred=model(x_train,w_init,b_init)\n",
    "print(f'Prediction : {y_pred}')"
   ]
  },
  {
   "cell_type": "markdown",
   "id": "8e158b71",
   "metadata": {},
   "source": [
    "**Cost function**"
   ]
  },
  {
   "cell_type": "code",
   "execution_count": 63,
   "id": "0d7b94dc",
   "metadata": {},
   "outputs": [],
   "source": [
    "def cost(x,y,w,b)->float:\n",
    "    m=len(x)\n",
    "    error=model(x,w,b)-y\n",
    "    mse=(1/(2*m))*np.sum(np.square(error))\n",
    "    return mse"
   ]
  },
  {
   "cell_type": "code",
   "execution_count": 64,
   "id": "11d761e6",
   "metadata": {},
   "outputs": [
    {
     "name": "stdout",
     "output_type": "stream",
     "text": [
      "The cost = 13.85\n"
     ]
    }
   ],
   "source": [
    "Jwb=cost(x_train,y_train,w_init,b_init)\n",
    "print(f'The cost = {Jwb:.2f}')"
   ]
  },
  {
   "cell_type": "markdown",
   "id": "c6b254e4",
   "metadata": {},
   "source": [
    "**Gradient function**"
   ]
  },
  {
   "cell_type": "code",
   "execution_count": 65,
   "id": "390fc5a3",
   "metadata": {},
   "outputs": [],
   "source": [
    "def Gradient(x,y,w,b):\n",
    "    m=len(x)\n",
    "    error=model(x,w,b)-y\n",
    "    Gw=(1/(m))*x.T.dot(error)\n",
    "    Gb=(1/(m))*(np.sum(error))\n",
    "    return Gw , Gb\n"
   ]
  },
  {
   "cell_type": "markdown",
   "id": "dcfcd1e3",
   "metadata": {},
   "source": [
    "**Update function**"
   ]
  },
  {
   "cell_type": "code",
   "execution_count": 66,
   "id": "c884d161",
   "metadata": {},
   "outputs": [],
   "source": [
    "def update(Gw,Gb,w,b,alpha):\n",
    "    w=w-alpha*Gw\n",
    "    b=b-alpha*Gb\n",
    "    return w,b"
   ]
  },
  {
   "cell_type": "markdown",
   "id": "ca64d766",
   "metadata": {},
   "source": [
    "**Initialize parameters**"
   ]
  },
  {
   "cell_type": "code",
   "execution_count": 67,
   "id": "03d5b4c0",
   "metadata": {},
   "outputs": [
    {
     "data": {
      "text/plain": [
       "array([0., 0., 0., 0.])"
      ]
     },
     "execution_count": 67,
     "metadata": {},
     "output_type": "execute_result"
    }
   ],
   "source": [
    "w = np.zeros(4)\n",
    "w"
   ]
  },
  {
   "cell_type": "markdown",
   "id": "f2526dbe",
   "metadata": {},
   "source": [
    "**Training loop**"
   ]
  },
  {
   "cell_type": "code",
   "execution_count": 68,
   "id": "e73c4a0c",
   "metadata": {},
   "outputs": [
    {
     "name": "stdout",
     "output_type": "stream",
     "text": [
      "Iteration 0:| Cost: 49285.16 | w: [4.82669333e-04 1.11733333e-06 3.67333333e-07 1.20700000e-05] | b: 2.9000000000000003e-07\n",
      "Iteration 100:| Cost: 30820.82 | w: [4.33631049e-02 1.00454897e-04 3.27447228e-05 1.08275028e-03] | b: 2.5999728128454502e-05\n",
      "Iteration 200:| Cost: 19373.26 | w: [7.71267855e-02 1.78812374e-04 5.77495912e-05 1.92270673e-03] | b: 4.614060613009135e-05\n",
      "Iteration 300:| Cost: 12275.97 | w: [1.03712030e-01 2.40650350e-04 7.69494158e-05 2.58099370e-03] | b: 6.189663128797994e-05\n",
      "Iteration 400:| Cost: 7875.78 | w: [1.24645048e-01 2.89481047e-04 9.15784115e-05 3.09623606e-03] | b: 7.420007056663332e-05\n",
      "Iteration 500:| Cost: 5147.74 | w: [1.41127565e-01 3.28069949e-04 1.02608386e-04 3.49884664e-03] | b: 8.378498113455073e-05\n",
      "Iteration 600:| Cost: 3456.40 | w: [1.54105802e-01 3.58594570e-04 1.10804531e-04 3.81277217e-03] | b: 9.122935185879926e-05\n",
      "Iteration 700:| Cost: 2407.80 | w: [1.64324808e-01 3.82769460e-04 1.16769350e-04 4.05686805e-03] | b: 9.698828507307777e-05\n",
      "Iteration 800:| Cost: 1757.69 | w: [1.72371223e-01 4.01944639e-04 1.20977248e-04 4.24598084e-03] | b: 0.00010142012355168226\n",
      "Iteration 900:| Cost: 1354.63 | w: [1.78706964e-01 4.17183098e-04 1.23801766e-04 4.39180054e-03] | b: 0.00010480702261305649\n"
     ]
    }
   ],
   "source": [
    "alpha=1e-9\n",
    "b = 0 # or np.mean(y_train)\n",
    "w = np.zeros(n)\n",
    "iterations=1000\n",
    "J_wb=[]\n",
    "\n",
    "for i in range(iterations):\n",
    "    gw,gb=Gradient(x_train,y_train,w,b)\n",
    "    w,b=update(gw,gb,w,b,alpha)\n",
    "    mse=cost(x_train, y_train, w, b)\n",
    "    J_wb.append(mse)\n",
    "    if i % 100==0:\n",
    "        print(f'Iteration {i}:| Cost: {mse:.2f} | w: {w} | b: {b}')\n",
    "\n"
   ]
  },
  {
   "cell_type": "code",
   "execution_count": 69,
   "id": "546501ab",
   "metadata": {},
   "outputs": [
    {
     "name": "stdout",
     "output_type": "stream",
     "text": [
      "w: [1.83651522e-01 4.29213491e-04 1.25524261e-04 4.50255798e-03]\n",
      "b: 0.00010734897166877989\n"
     ]
    }
   ],
   "source": [
    "print(f\"w: {w}\")\n",
    "print(f\"b: {b}\")\n"
   ]
  },
  {
   "cell_type": "markdown",
   "id": "8e8e6914",
   "metadata": {},
   "source": [
    "**Predictions**"
   ]
  },
  {
   "cell_type": "code",
   "execution_count": 70,
   "id": "92b6fcd2",
   "metadata": {},
   "outputs": [
    {
     "data": {
      "text/plain": [
       "array([386.60779533, 260.23230283, 156.62977716])"
      ]
     },
     "execution_count": 70,
     "metadata": {},
     "output_type": "execute_result"
    }
   ],
   "source": [
    "Prediction=model(x_train,w,b)\n",
    "Prediction"
   ]
  },
  {
   "cell_type": "markdown",
   "id": "3befec97",
   "metadata": {},
   "source": [
    "**Plot Cost vs Iterations**"
   ]
  },
  {
   "cell_type": "code",
   "execution_count": 71,
   "id": "b225b291",
   "metadata": {},
   "outputs": [
    {
     "data": {
      "image/png": "[encoded data removed]",
      "text/plain": [
       "<Figure size 640x480 with 1 Axes>"
      ]
     },
     "metadata": {},
     "output_type": "display_data"
    }
   ],
   "source": [
    "plt.plot(range(iterations),J_wb,label='cost vs iteration')\n",
    "plt.xlabel('iteration')\n",
    "plt.ylabel('cost')\n",
    "plt.legend()\n",
    "plt.show()"
   ]
  },
  {
   "cell_type": "markdown",
   "id": "e6c8d4b0",
   "metadata": {},
   "source": [
    "**Evaluation metrics**"
   ]
  },
  {
   "cell_type": "code",
   "execution_count": 72,
   "id": "98470b85",
   "metadata": {},
   "outputs": [],
   "source": [
    "def R2(y, y_pred) -> float:\n",
    "    mean_y = np.mean(y)\n",
    "    SS_total = np.sum((y - mean_y) ** 2)\n",
    "    SS_res = np.sum((y - y_pred) ** 2)\n",
    "    r2 = 1 - (SS_res / SS_total)\n",
    "    return r2\n"
   ]
  },
  {
   "cell_type": "code",
   "execution_count": 73,
   "id": "f13cbfc9",
   "metadata": {},
   "outputs": [],
   "source": [
    "def MSE(y, y_pred):\n",
    "    return np.mean((y - y_pred)**2)\n",
    "\n"
   ]
  },
  {
   "cell_type": "code",
   "execution_count": 74,
   "id": "2e0aad94",
   "metadata": {},
   "outputs": [],
   "source": [
    "def RMSE(y, y_pred):\n",
    "    return np.sqrt(MSE(y, y_pred))\n"
   ]
  },
  {
   "cell_type": "code",
   "execution_count": 75,
   "id": "335c0a22",
   "metadata": {},
   "outputs": [],
   "source": [
    "def MAE(y, y_pred):\n",
    "    return np.mean(np.abs(y - y_pred))\n"
   ]
  },
  {
   "cell_type": "code",
   "execution_count": 76,
   "id": "eef7e50e",
   "metadata": {},
   "outputs": [
    {
     "name": "stdout",
     "output_type": "stream",
     "text": [
      "R²: 0.8518084928211371\n",
      "MSE: 2213.388351223496\n",
      "RMSE: 47.04666142483966\n",
      "MAE: 40.99824344557036\n"
     ]
    }
   ],
   "source": [
    "print(\"R²:\", R2(y_train, Prediction))\n",
    "print(\"MSE:\", MSE(y_train, Prediction))\n",
    "print(\"RMSE:\", RMSE(y_train, Prediction))\n",
    "print(\"MAE:\", MAE(y_train, Prediction))"
   ]
  }
 ],
 "metadata": {
  "kernelspec": {
   "display_name": "Python 3",
   "language": "python",
   "name": "python3"
  },
  "language_info": {
   "codemirror_mode": {
    "name": "ipython",
    "version": 3
   },
   "file_extension": ".py",
   "mimetype": "text/x-python",
   "name": "python",
   "nbconvert_exporter": "python",
   "pygments_lexer": "ipython3",
   "version": "3.13.5"
  }
 },
 "nbformat": 4,
 "nbformat_minor": 5
}
